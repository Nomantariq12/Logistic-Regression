{
  "nbformat": 4,
  "nbformat_minor": 0,
  "metadata": {
    "colab": {
      "name": "Logistic Regression in Python.ipynb",
      "provenance": []
    },
    "kernelspec": {
      "name": "python3",
      "display_name": "Python 3"
    },
    "language_info": {
      "name": "python"
    }
  },
  "cells": [
    {
      "cell_type": "code",
      "execution_count": 41,
      "metadata": {
        "id": "lIOZgq8xBMQH"
      },
      "outputs": [],
      "source": [
        "#Import Essential Libraries\n",
        "import numpy as np\n",
        "import pandas as pd\n",
        "import matplotlib.pyplot as plt\n",
        "from sklearn import preprocessing"
      ]
    },
    {
      "cell_type": "code",
      "source": [
        ""
      ],
      "metadata": {
        "id": "rTqisvvJ7E8L"
      },
      "execution_count": 41,
      "outputs": []
    },
    {
      "cell_type": "markdown",
      "source": [
        "**Reading Titanic Dataset** \n",
        "\n",
        "> Store Data in X_training, Y_training, X_test and Y_test\n",
        "\n",
        "\n",
        "\n"
      ],
      "metadata": {
        "id": "qamUmgpk7GmY"
      }
    },
    {
      "cell_type": "code",
      "source": [
        "x_train = pd.read_csv(\"/content/drive/MyDrive/Dataset Titanic/train_X.csv\")\n",
        "y_train = pd.read_csv(\"/content/drive/MyDrive/Dataset Titanic/train_Y.csv\")\n",
        "x_test = pd.read_csv(\"/content/drive/MyDrive/Dataset Titanic/test_X.csv\")\n",
        "y_test = pd.read_csv(\"/content/drive/MyDrive/Dataset Titanic/test_Y.csv\")"
      ],
      "metadata": {
        "id": "u1lZkyEeNR_z"
      },
      "execution_count": 42,
      "outputs": []
    },
    {
      "cell_type": "markdown",
      "source": [
        "# Dropping \"Id\" coloumn"
      ],
      "metadata": {
        "id": "e7_HUXqP8Ebm"
      }
    },
    {
      "cell_type": "code",
      "source": [
        "x_train = x_train.drop(\"Id\", axis=1)\n",
        "y_train = y_train.drop(\"Id\", axis=1)\n",
        "x_test = x_test.drop(\"Id\", axis=1)\n",
        "y_test = y_test.drop(\"Id\", axis=1)"
      ],
      "metadata": {
        "id": "KYZ03e9nNSRd"
      },
      "execution_count": 43,
      "outputs": []
    },
    {
      "cell_type": "markdown",
      "source": [
        "## Filling Missing Data with mean of that coloumn"
      ],
      "metadata": {
        "id": "WZdZCak68ZOn"
      }
    },
    {
      "cell_type": "code",
      "source": [
        "x_test[\"Age\"] = x_test[\"Age\"].fillna(np.mean(x_test[\"Age\"]))"
      ],
      "metadata": {
        "id": "c4-eBxLoohj0"
      },
      "execution_count": 44,
      "outputs": []
    },
    {
      "cell_type": "code",
      "source": [
        "x_test[\"Fare\"] = x_test[\"Fare\"].fillna(np.mean(x_test[\"Fare\"]))"
      ],
      "metadata": {
        "id": "flPiAzj5o1F5"
      },
      "execution_count": 45,
      "outputs": []
    },
    {
      "cell_type": "code",
      "source": [
        "x_test.isna().sum()"
      ],
      "metadata": {
        "colab": {
          "base_uri": "https://localhost:8080/"
        },
        "id": "DAcWOE9ynUV6",
        "outputId": "297253f0-94a5-4e60-e3a8-ca97d852330d"
      },
      "execution_count": 46,
      "outputs": [
        {
          "output_type": "execute_result",
          "data": {
            "text/plain": [
              "Pclass      0\n",
              "Sex         0\n",
              "Age         0\n",
              "SibSp       0\n",
              "Parch       0\n",
              "Fare        0\n",
              "Embarked    0\n",
              "dtype: int64"
            ]
          },
          "metadata": {},
          "execution_count": 46
        }
      ]
    },
    {
      "cell_type": "code",
      "source": [
        "x_test"
      ],
      "metadata": {
        "colab": {
          "base_uri": "https://localhost:8080/",
          "height": 424
        },
        "id": "P2MS-kldn2x4",
        "outputId": "27f58a2e-99a2-4da1-ba03-fa3a2a58d7ff"
      },
      "execution_count": 47,
      "outputs": [
        {
          "output_type": "execute_result",
          "data": {
            "text/html": [
              "\n",
              "  <div id=\"df-2f5ed405-b236-4c5a-8445-83efe66ecf0a\">\n",
              "    <div class=\"colab-df-container\">\n",
              "      <div>\n",
              "<style scoped>\n",
              "    .dataframe tbody tr th:only-of-type {\n",
              "        vertical-align: middle;\n",
              "    }\n",
              "\n",
              "    .dataframe tbody tr th {\n",
              "        vertical-align: top;\n",
              "    }\n",
              "\n",
              "    .dataframe thead th {\n",
              "        text-align: right;\n",
              "    }\n",
              "</style>\n",
              "<table border=\"1\" class=\"dataframe\">\n",
              "  <thead>\n",
              "    <tr style=\"text-align: right;\">\n",
              "      <th></th>\n",
              "      <th>Pclass</th>\n",
              "      <th>Sex</th>\n",
              "      <th>Age</th>\n",
              "      <th>SibSp</th>\n",
              "      <th>Parch</th>\n",
              "      <th>Fare</th>\n",
              "      <th>Embarked</th>\n",
              "    </tr>\n",
              "  </thead>\n",
              "  <tbody>\n",
              "    <tr>\n",
              "      <th>0</th>\n",
              "      <td>3</td>\n",
              "      <td>0</td>\n",
              "      <td>34.50000</td>\n",
              "      <td>0</td>\n",
              "      <td>0</td>\n",
              "      <td>7.8292</td>\n",
              "      <td>2</td>\n",
              "    </tr>\n",
              "    <tr>\n",
              "      <th>1</th>\n",
              "      <td>3</td>\n",
              "      <td>1</td>\n",
              "      <td>47.00000</td>\n",
              "      <td>1</td>\n",
              "      <td>0</td>\n",
              "      <td>7.0000</td>\n",
              "      <td>1</td>\n",
              "    </tr>\n",
              "    <tr>\n",
              "      <th>2</th>\n",
              "      <td>2</td>\n",
              "      <td>0</td>\n",
              "      <td>62.00000</td>\n",
              "      <td>0</td>\n",
              "      <td>0</td>\n",
              "      <td>9.6875</td>\n",
              "      <td>2</td>\n",
              "    </tr>\n",
              "    <tr>\n",
              "      <th>3</th>\n",
              "      <td>3</td>\n",
              "      <td>0</td>\n",
              "      <td>27.00000</td>\n",
              "      <td>0</td>\n",
              "      <td>0</td>\n",
              "      <td>8.6625</td>\n",
              "      <td>1</td>\n",
              "    </tr>\n",
              "    <tr>\n",
              "      <th>4</th>\n",
              "      <td>3</td>\n",
              "      <td>1</td>\n",
              "      <td>22.00000</td>\n",
              "      <td>1</td>\n",
              "      <td>1</td>\n",
              "      <td>12.2875</td>\n",
              "      <td>1</td>\n",
              "    </tr>\n",
              "    <tr>\n",
              "      <th>...</th>\n",
              "      <td>...</td>\n",
              "      <td>...</td>\n",
              "      <td>...</td>\n",
              "      <td>...</td>\n",
              "      <td>...</td>\n",
              "      <td>...</td>\n",
              "      <td>...</td>\n",
              "    </tr>\n",
              "    <tr>\n",
              "      <th>413</th>\n",
              "      <td>3</td>\n",
              "      <td>0</td>\n",
              "      <td>30.27259</td>\n",
              "      <td>0</td>\n",
              "      <td>0</td>\n",
              "      <td>8.0500</td>\n",
              "      <td>1</td>\n",
              "    </tr>\n",
              "    <tr>\n",
              "      <th>414</th>\n",
              "      <td>1</td>\n",
              "      <td>1</td>\n",
              "      <td>39.00000</td>\n",
              "      <td>0</td>\n",
              "      <td>0</td>\n",
              "      <td>108.9000</td>\n",
              "      <td>0</td>\n",
              "    </tr>\n",
              "    <tr>\n",
              "      <th>415</th>\n",
              "      <td>3</td>\n",
              "      <td>0</td>\n",
              "      <td>38.50000</td>\n",
              "      <td>0</td>\n",
              "      <td>0</td>\n",
              "      <td>7.2500</td>\n",
              "      <td>1</td>\n",
              "    </tr>\n",
              "    <tr>\n",
              "      <th>416</th>\n",
              "      <td>3</td>\n",
              "      <td>0</td>\n",
              "      <td>30.27259</td>\n",
              "      <td>0</td>\n",
              "      <td>0</td>\n",
              "      <td>8.0500</td>\n",
              "      <td>1</td>\n",
              "    </tr>\n",
              "    <tr>\n",
              "      <th>417</th>\n",
              "      <td>3</td>\n",
              "      <td>0</td>\n",
              "      <td>30.27259</td>\n",
              "      <td>1</td>\n",
              "      <td>1</td>\n",
              "      <td>22.3583</td>\n",
              "      <td>0</td>\n",
              "    </tr>\n",
              "  </tbody>\n",
              "</table>\n",
              "<p>418 rows × 7 columns</p>\n",
              "</div>\n",
              "      <button class=\"colab-df-convert\" onclick=\"convertToInteractive('df-2f5ed405-b236-4c5a-8445-83efe66ecf0a')\"\n",
              "              title=\"Convert this dataframe to an interactive table.\"\n",
              "              style=\"display:none;\">\n",
              "        \n",
              "  <svg xmlns=\"http://www.w3.org/2000/svg\" height=\"24px\"viewBox=\"0 0 24 24\"\n",
              "       width=\"24px\">\n",
              "    <path d=\"M0 0h24v24H0V0z\" fill=\"none\"/>\n",
              "    <path d=\"M18.56 5.44l.94 2.06.94-2.06 2.06-.94-2.06-.94-.94-2.06-.94 2.06-2.06.94zm-11 1L8.5 8.5l.94-2.06 2.06-.94-2.06-.94L8.5 2.5l-.94 2.06-2.06.94zm10 10l.94 2.06.94-2.06 2.06-.94-2.06-.94-.94-2.06-.94 2.06-2.06.94z\"/><path d=\"M17.41 7.96l-1.37-1.37c-.4-.4-.92-.59-1.43-.59-.52 0-1.04.2-1.43.59L10.3 9.45l-7.72 7.72c-.78.78-.78 2.05 0 2.83L4 21.41c.39.39.9.59 1.41.59.51 0 1.02-.2 1.41-.59l7.78-7.78 2.81-2.81c.8-.78.8-2.07 0-2.86zM5.41 20L4 18.59l7.72-7.72 1.47 1.35L5.41 20z\"/>\n",
              "  </svg>\n",
              "      </button>\n",
              "      \n",
              "  <style>\n",
              "    .colab-df-container {\n",
              "      display:flex;\n",
              "      flex-wrap:wrap;\n",
              "      gap: 12px;\n",
              "    }\n",
              "\n",
              "    .colab-df-convert {\n",
              "      background-color: #E8F0FE;\n",
              "      border: none;\n",
              "      border-radius: 50%;\n",
              "      cursor: pointer;\n",
              "      display: none;\n",
              "      fill: #1967D2;\n",
              "      height: 32px;\n",
              "      padding: 0 0 0 0;\n",
              "      width: 32px;\n",
              "    }\n",
              "\n",
              "    .colab-df-convert:hover {\n",
              "      background-color: #E2EBFA;\n",
              "      box-shadow: 0px 1px 2px rgba(60, 64, 67, 0.3), 0px 1px 3px 1px rgba(60, 64, 67, 0.15);\n",
              "      fill: #174EA6;\n",
              "    }\n",
              "\n",
              "    [theme=dark] .colab-df-convert {\n",
              "      background-color: #3B4455;\n",
              "      fill: #D2E3FC;\n",
              "    }\n",
              "\n",
              "    [theme=dark] .colab-df-convert:hover {\n",
              "      background-color: #434B5C;\n",
              "      box-shadow: 0px 1px 3px 1px rgba(0, 0, 0, 0.15);\n",
              "      filter: drop-shadow(0px 1px 2px rgba(0, 0, 0, 0.3));\n",
              "      fill: #FFFFFF;\n",
              "    }\n",
              "  </style>\n",
              "\n",
              "      <script>\n",
              "        const buttonEl =\n",
              "          document.querySelector('#df-2f5ed405-b236-4c5a-8445-83efe66ecf0a button.colab-df-convert');\n",
              "        buttonEl.style.display =\n",
              "          google.colab.kernel.accessAllowed ? 'block' : 'none';\n",
              "\n",
              "        async function convertToInteractive(key) {\n",
              "          const element = document.querySelector('#df-2f5ed405-b236-4c5a-8445-83efe66ecf0a');\n",
              "          const dataTable =\n",
              "            await google.colab.kernel.invokeFunction('convertToInteractive',\n",
              "                                                     [key], {});\n",
              "          if (!dataTable) return;\n",
              "\n",
              "          const docLinkHtml = 'Like what you see? Visit the ' +\n",
              "            '<a target=\"_blank\" href=https://colab.research.google.com/notebooks/data_table.ipynb>data table notebook</a>'\n",
              "            + ' to learn more about interactive tables.';\n",
              "          element.innerHTML = '';\n",
              "          dataTable['output_type'] = 'display_data';\n",
              "          await google.colab.output.renderOutput(dataTable, element);\n",
              "          const docLink = document.createElement('div');\n",
              "          docLink.innerHTML = docLinkHtml;\n",
              "          element.appendChild(docLink);\n",
              "        }\n",
              "      </script>\n",
              "    </div>\n",
              "  </div>\n",
              "  "
            ],
            "text/plain": [
              "     Pclass  Sex       Age  SibSp  Parch      Fare  Embarked\n",
              "0         3    0  34.50000      0      0    7.8292         2\n",
              "1         3    1  47.00000      1      0    7.0000         1\n",
              "2         2    0  62.00000      0      0    9.6875         2\n",
              "3         3    0  27.00000      0      0    8.6625         1\n",
              "4         3    1  22.00000      1      1   12.2875         1\n",
              "..      ...  ...       ...    ...    ...       ...       ...\n",
              "413       3    0  30.27259      0      0    8.0500         1\n",
              "414       1    1  39.00000      0      0  108.9000         0\n",
              "415       3    0  38.50000      0      0    7.2500         1\n",
              "416       3    0  30.27259      0      0    8.0500         1\n",
              "417       3    0  30.27259      1      1   22.3583         0\n",
              "\n",
              "[418 rows x 7 columns]"
            ]
          },
          "metadata": {},
          "execution_count": 47
        }
      ]
    },
    {
      "cell_type": "markdown",
      "source": [
        "# Scaling Data "
      ],
      "metadata": {
        "id": "IG_I55708oex"
      }
    },
    {
      "cell_type": "code",
      "source": [
        "x_train = preprocessing.scale(x_train)\n",
        "x_test = preprocessing.scale(x_test)"
      ],
      "metadata": {
        "id": "BaaxJjqVfASY"
      },
      "execution_count": 48,
      "outputs": []
    },
    {
      "cell_type": "code",
      "source": [
        "x_train"
      ],
      "metadata": {
        "colab": {
          "base_uri": "https://localhost:8080/"
        },
        "id": "cOB6-lDln1fu",
        "outputId": "309ab338-85d3-4de9-dc19-73f731e02ccf"
      },
      "execution_count": 49,
      "outputs": [
        {
          "output_type": "execute_result",
          "data": {
            "text/plain": [
              "array([[ 0.82737724, -0.73769513, -0.5669478 , ..., -0.47367361,\n",
              "        -0.50244517,  0.20225613],\n",
              "       [-1.56610693,  1.35557354,  0.6375534 , ..., -0.47367361,\n",
              "         0.78684529, -1.7354881 ],\n",
              "       [ 0.82737724,  1.35557354, -0.2658225 , ..., -0.47367361,\n",
              "        -0.48885426,  0.20225613],\n",
              "       ...,\n",
              "       [ 0.82737724,  1.35557354, -0.71751045, ...,  2.00893337,\n",
              "        -0.17626324,  0.20225613],\n",
              "       [-1.56610693, -0.73769513, -0.2658225 , ..., -0.47367361,\n",
              "        -0.04438104, -1.7354881 ],\n",
              "       [ 0.82737724, -0.73769513,  0.18586545, ..., -0.47367361,\n",
              "        -0.49237783,  2.14000037]])"
            ]
          },
          "metadata": {},
          "execution_count": 49
        }
      ]
    },
    {
      "cell_type": "markdown",
      "source": [
        "### Converting Series to numpy array"
      ],
      "metadata": {
        "id": "iFzO8h1W80Ca"
      }
    },
    {
      "cell_type": "code",
      "source": [
        "y_train = y_train.values\n",
        "y_test = y_test.values"
      ],
      "metadata": {
        "id": "_ot7YZ2FNSdc"
      },
      "execution_count": 50,
      "outputs": []
    },
    {
      "cell_type": "markdown",
      "source": [
        "### Reshaping Dataset"
      ],
      "metadata": {
        "id": "VV9RJ2y2896k"
      }
    },
    {
      "cell_type": "code",
      "source": [
        "x_train = x_train.T\n",
        "y_train = y_train.reshape(1, -1)\n",
        "\n",
        "x_test = x_test.T\n",
        "y_test = y_test.reshape(1, -1)"
      ],
      "metadata": {
        "id": "XRN90H6JNShX"
      },
      "execution_count": 51,
      "outputs": []
    },
    {
      "cell_type": "markdown",
      "source": [
        "### Displaying Dataset Shape"
      ],
      "metadata": {
        "id": "jKLcX_b69EWU"
      }
    },
    {
      "cell_type": "code",
      "source": [
        "print(f\"Shape of x_train is: {x_train.shape}\")\n",
        "print(f\"Shape of y_train is: {y_train.shape}\")\n",
        "print(f\"Shape of x_test is: {x_test.shape}\")\n",
        "print(f\"Shape of y_test is: {y_test.shape}\")"
      ],
      "metadata": {
        "colab": {
          "base_uri": "https://localhost:8080/"
        },
        "id": "BQUbmRxMNSrP",
        "outputId": "e42baee7-a25b-49a9-a930-60c0d2797503"
      },
      "execution_count": 52,
      "outputs": [
        {
          "output_type": "stream",
          "name": "stdout",
          "text": [
            "Shape of x_train is: (7, 891)\n",
            "Shape of y_train is: (1, 891)\n",
            "Shape of x_test is: (7, 418)\n",
            "Shape of y_test is: (1, 418)\n"
          ]
        }
      ]
    },
    {
      "cell_type": "markdown",
      "source": [
        "Defining Function for initializig Parameters (w, b)"
      ],
      "metadata": {
        "id": "U2mInGvM9LoC"
      }
    },
    {
      "cell_type": "code",
      "source": [
        "def initialize_with_zeros(dim):\n",
        "  w = np.zeros((dim, 1))\n",
        "  b = float(0)\n",
        "\n",
        "  return w, b"
      ],
      "metadata": {
        "id": "lNvh09vzBpJH"
      },
      "execution_count": 53,
      "outputs": []
    },
    {
      "cell_type": "markdown",
      "source": [
        "### Sigmoid Function"
      ],
      "metadata": {
        "id": "n7QoQ__49W9H"
      }
    },
    {
      "cell_type": "code",
      "source": [
        "def sigmoid(z):\n",
        "\n",
        "  s = 1 / (1 + np.exp(-z))\n",
        "\n",
        "  return s \n"
      ],
      "metadata": {
        "id": "Y3avRXyRB8HL"
      },
      "execution_count": 54,
      "outputs": []
    },
    {
      "cell_type": "markdown",
      "source": [
        "## Defining function for Forward and Backward Propagation\n",
        "### In forward propagation we calculate cost\n",
        "### and In backward propagation we calculate derivatives"
      ],
      "metadata": {
        "id": "8sKgWMEY9fC8"
      }
    },
    {
      "cell_type": "code",
      "source": [
        "def propagate(w, b, X, Y):\n",
        "\n",
        "  m = X.shape[1]\n",
        "\n",
        "  Z = np.dot(w.T, X) + b\n",
        "  A = sigmoid(Z)\n",
        "\n",
        "  cost = (-1/m) * np.sum(Y * np.log(A) + (1-Y) * np.log(1-A))\n",
        "\n",
        "  dw = (1/m) * np.dot(X, (A-Y).T) \n",
        "  db = (1/m) * np.sum(A-Y)\n",
        "\n",
        "  grads = {\n",
        "      \"dw\": dw,\n",
        "      \"db\": db\n",
        "  } \n",
        "  cost = np.squeeze(np.array(cost)) \n",
        "\n",
        "  return grads, cost"
      ],
      "metadata": {
        "id": "aUpGMFJlCShC"
      },
      "execution_count": 55,
      "outputs": []
    },
    {
      "cell_type": "markdown",
      "source": [
        "### Optimizing the model to learn the parameters or Apply Gradient Descent"
      ],
      "metadata": {
        "id": "0OphsKag-BDb"
      }
    },
    {
      "cell_type": "code",
      "source": [
        "def optimize(w, b, X, Y, learning_rate, iterations, print_cost=False):\n",
        "\n",
        "  cost_list = []\n",
        "  \n",
        "  for i in range(iterations):\n",
        "\n",
        "    grads, cost = propagate(w, b, X, Y)\n",
        "\n",
        "    dw = grads[\"dw\"]\n",
        "    db = grads[\"db\"]\n",
        "\n",
        "    w = w - (learning_rate * dw)\n",
        "    b = b - (learning_rate * db)\n",
        "\n",
        "    if i % 100 == 0:\n",
        "      cost_list.append(cost)\n",
        "\n",
        "      if print_cost:\n",
        "        print(f\"Cost After {i} iterations is: {cost}\")\n",
        "\n",
        "  params = {\n",
        "        \"w\": w,\n",
        "        \"b\": b\n",
        "    }\n",
        "\n",
        "  grads = {\n",
        "        \"dw\": dw,\n",
        "        \"db\": db\n",
        "    }\n",
        "  \n",
        "  return params, grads, cost_list"
      ],
      "metadata": {
        "id": "oY3E7O1bEUq4"
      },
      "execution_count": 56,
      "outputs": []
    },
    {
      "cell_type": "markdown",
      "source": [
        "### Defining Function for Prediction"
      ],
      "metadata": {
        "id": "j-p8lfU2-S2a"
      }
    },
    {
      "cell_type": "code",
      "source": [
        "def predict(w, b, X):\n",
        "\n",
        "  m = X.shape[1]\n",
        "  y_prediction = np.zeros((1, m))\n",
        "  w = w.reshape(X.shape[0], 1)\n",
        "\n",
        "  A = sigmoid(np.dot(w.T, X) + b)\n",
        "  \n",
        "  for i in range(A.shape[1]):\n",
        "    if A[0, i] > 0.5:\n",
        "      y_prediction[0, i] = 1\n",
        "    else:\n",
        "      y_prediction[0, i] = 0\n",
        "\n",
        "  return y_prediction"
      ],
      "metadata": {
        "id": "4pDCcegLHAYl"
      },
      "execution_count": 57,
      "outputs": []
    },
    {
      "cell_type": "markdown",
      "source": [
        "## Defining the Model \n"
      ],
      "metadata": {
        "id": "uuHiIAfq-aG4"
      }
    },
    {
      "cell_type": "code",
      "source": [
        "def model(X, Y, xT, yT, learning_rate, iterations, print_cost=False):\n",
        "\n",
        "  w, b = initialize_with_zeros(X.shape[0])\n",
        "  params, grads, cost_list = optimize(w, b, X, Y, learning_rate, iterations, print_cost=True)\n",
        "\n",
        "  w = params[\"w\"]\n",
        "  b = params[\"b\"]\n",
        "\n",
        "  y_prediction_X = predict(w, b, X)\n",
        "  y_prediction_xT = predict(w, b, xT)\n",
        "\n",
        "  if print_cost:\n",
        "    print(f\"Accuracy of Train Data is: {100 - np.mean(np.abs(y_prediction_X - Y) * 100)}\")\n",
        "    print(f\"Accuracy of Test Data is: {100 - np.mean(np.abs(y_prediction_xT - yT) * 100)}\")\n",
        "\n",
        "  d = {\n",
        "      \"w\": w,\n",
        "       \"b\": b,\n",
        "       \"y_prediction_X\": y_prediction_X,\n",
        "       \"y_prediction_xT\": y_prediction_xT,\n",
        "       \"learning_rate\": learning_rate,\n",
        "       \"iterations\": iterations,\n",
        "       \"cost_list\": cost_list\n",
        "  }\n",
        "\n",
        "  return d"
      ],
      "metadata": {
        "id": "ScRqD5bwIySE"
      },
      "execution_count": 58,
      "outputs": []
    },
    {
      "cell_type": "code",
      "source": [
        "logistic_regression = model(X=x_train, Y=y_train, xT=x_test, yT=y_test, learning_rate=0.005, iterations=2000, print_cost=True)"
      ],
      "metadata": {
        "colab": {
          "base_uri": "https://localhost:8080/"
        },
        "id": "EU8JL0btM4tF",
        "outputId": "696c53f4-fb3e-4a4d-f8dc-203e84f4b52b"
      },
      "execution_count": 59,
      "outputs": [
        {
          "output_type": "stream",
          "name": "stdout",
          "text": [
            "Cost After 0 iterations is: 0.6931471805599454\n",
            "Cost After 100 iterations is: 0.6373420777718123\n",
            "Cost After 200 iterations is: 0.5976772305946954\n",
            "Cost After 300 iterations is: 0.5686545599728919\n",
            "Cost After 400 iterations is: 0.5468269185202228\n",
            "Cost After 500 iterations is: 0.5300133832979685\n",
            "Cost After 600 iterations is: 0.5167964644083037\n",
            "Cost After 700 iterations is: 0.5062265658568098\n",
            "Cost After 800 iterations is: 0.4976489031351306\n",
            "Cost After 900 iterations is: 0.4906000084944349\n",
            "Cost After 1000 iterations is: 0.4847441156412562\n",
            "Cost After 1100 iterations is: 0.4798329294479908\n",
            "Cost After 1200 iterations is: 0.4756794838850439\n",
            "Cost After 1300 iterations is: 0.47214072190260964\n",
            "Cost After 1400 iterations is: 0.4691056175365122\n",
            "Cost After 1500 iterations is: 0.4664869063427547\n",
            "Cost After 1600 iterations is: 0.4642152182762457\n",
            "Cost After 1700 iterations is: 0.4622348432899041\n",
            "Cost After 1800 iterations is: 0.4605006275496269\n",
            "Cost After 1900 iterations is: 0.4589756660992692\n",
            "Accuracy of Train Data is: 79.12457912457913\n",
            "Accuracy of Test Data is: 96.88995215311004\n"
          ]
        }
      ]
    },
    {
      "cell_type": "markdown",
      "source": [
        "### Plotting Values of Cost"
      ],
      "metadata": {
        "id": "zfs4OLh0-6Kb"
      }
    },
    {
      "cell_type": "code",
      "source": [
        "costs = np.squeeze(logistic_regression[\"cost_list\"])\n",
        "plt.plot(costs)\n",
        "plt.xlabel(\"iterations per 100\")\n",
        "plt.ylabel(\"Cost\")\n",
        "plt.title(f'Learning rate {logistic_regression[\"learning_rate\"]}')\n",
        "plt.show()\n"
      ],
      "metadata": {
        "colab": {
          "base_uri": "https://localhost:8080/",
          "height": 295
        },
        "id": "xrNzAVQPP7z6",
        "outputId": "9c26a156-2056-41dc-8e96-25c303c106f4"
      },
      "execution_count": 60,
      "outputs": [
        {
          "output_type": "display_data",
          "data": {
            "image/png": "[encoded data removed]",
            "text/plain": [
              "<Figure size 432x288 with 1 Axes>"
            ]
          },
          "metadata": {
            "needs_background": "light"
          }
        }
      ]
    }
  ]
}